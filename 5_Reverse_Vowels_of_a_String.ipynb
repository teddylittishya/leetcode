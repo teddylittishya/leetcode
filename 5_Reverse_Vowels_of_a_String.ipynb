{
  "nbformat": 4,
  "nbformat_minor": 0,
  "metadata": {
    "colab": {
      "provenance": []
    },
    "kernelspec": {
      "name": "python3",
      "display_name": "Python 3"
    },
    "language_info": {
      "name": "python"
    }
  },
  "cells": [
    {
      "cell_type": "code",
      "execution_count": 1,
      "metadata": {
        "id": "hUsxbEuiozO0"
      },
      "outputs": [],
      "source": [
        "class Solution:\n",
        "    def reverseVowels(self, s: str) -> str:\n",
        "        vowels = set('aeiouAEIOU')\n",
        "        s = list(s)\n",
        "        left, right = 0, len(s) - 1\n",
        "\n",
        "        while left < right:\n",
        "            while left < right and s[left] not in vowels:\n",
        "                left += 1\n",
        "            while left < right and s[right] not in vowels:\n",
        "                right -= 1\n",
        "\n",
        "            # Swap vowels\n",
        "            s[left], s[right] = s[right], s[left]\n",
        "            left += 1\n",
        "            right -= 1\n",
        "\n",
        "        return ''.join(s)\n"
      ]
    },
    {
      "cell_type": "code",
      "source": [
        "sol = Solution()\n",
        "print(sol.reverseVowels(\"hello\"))    # Output: \"holle\"\n",
        "print(sol.reverseVowels(\"leetcode\")) # Output: \"leotcede\"\n"
      ],
      "metadata": {
        "colab": {
          "base_uri": "https://localhost:8080/"
        },
        "id": "P3UQobGUpAaT",
        "outputId": "3089eb89-4a64-47a1-a27b-4f54659c7846"
      },
      "execution_count": 2,
      "outputs": [
        {
          "output_type": "stream",
          "name": "stdout",
          "text": [
            "holle\n",
            "leotcede\n"
          ]
        }
      ]
    },
    {
      "cell_type": "markdown",
      "source": [
        "Complexity\n",
        "\n",
        "`Time\tO(n)\t`Each character is visited at most once (moving left and right pointers)\n",
        "\n",
        "`Space\tO(n)`\tBecause strings are immutable in Python, we convert s into a list, which takes extra O(n) space"
      ],
      "metadata": {
        "id": "fYxiDNQYtJoT"
      }
    },
    {
      "cell_type": "markdown",
      "source": [],
      "metadata": {
        "id": "QrQTeYx8tUpB"
      }
    },
    {
      "cell_type": "markdown",
      "source": [
        "# Stack approach (using a list for vowels)\n"
      ],
      "metadata": {
        "id": "OA_Ih03ks7cz"
      }
    },
    {
      "cell_type": "code",
      "source": [
        "class Solution:\n",
        "    def reverseVowels(self, s: str) -> str:\n",
        "        vowels = set('aeiouAEIOU')\n",
        "        stack = [c for c in s if c in vowels]\n",
        "        res = []\n",
        "\n",
        "        for c in s:\n",
        "            if c in vowels:\n",
        "                res.append(stack.pop())\n",
        "            else:\n",
        "                res.append(c)\n",
        "\n",
        "        return ''.join(res)\n"
      ],
      "metadata": {
        "id": "VwlCk1lVs-Jr"
      },
      "execution_count": 3,
      "outputs": []
    },
    {
      "cell_type": "code",
      "source": [
        "sol = Solution()\n",
        "print(sol.reverseVowels(\"hello\"))    # Output: \"holle\"\n",
        "print(sol.reverseVowels(\"leetcode\")) # Output: \"leotcede\"\n"
      ],
      "metadata": {
        "colab": {
          "base_uri": "https://localhost:8080/"
        },
        "id": "Rymu8XzbtCaE",
        "outputId": "1fdb49b3-dfd0-4eb9-8712-c1dc265f5bbb"
      },
      "execution_count": 4,
      "outputs": [
        {
          "output_type": "stream",
          "name": "stdout",
          "text": [
            "holle\n",
            "leotcede\n"
          ]
        }
      ]
    },
    {
      "cell_type": "markdown",
      "source": [
        "Time: O(n)\n",
        "\n",
        "Space: O(n) (stack + result list)"
      ],
      "metadata": {
        "id": "Vw0ZQ8rXtGdu"
      }
    }
  ]
}