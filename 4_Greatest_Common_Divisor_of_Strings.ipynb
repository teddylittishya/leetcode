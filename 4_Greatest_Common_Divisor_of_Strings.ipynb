{
  "nbformat": 4,
  "nbformat_minor": 0,
  "metadata": {
    "colab": {
      "provenance": []
    },
    "kernelspec": {
      "name": "python3",
      "display_name": "Python 3"
    },
    "language_info": {
      "name": "python"
    }
  },
  "cells": [
    {
      "cell_type": "code",
      "execution_count": 1,
      "metadata": {
        "id": "kFMXsEQBU_rG"
      },
      "outputs": [],
      "source": [
        "class Solution:\n",
        "    def gcdOfStrings(self, str1: str, str2: str) -> str:\n",
        "        # If str1 + str2 != str2 + str1, then there is no common divisor string\n",
        "        if str1 + str2 != str2 + str1:\n",
        "            return \"\"\n",
        "\n",
        "        # Helper function to compute GCD of two numbers\n",
        "        def gcd(a, b):\n",
        "            while b:\n",
        "                a, b = b, a % b\n",
        "            return a\n",
        "\n",
        "        # The GCD string will be the prefix of str1 with length equal to GCD of their lengths\n",
        "        gcd_length = gcd(len(str1), len(str2))\n",
        "        return str1[:gcd_length]\n"
      ]
    },
    {
      "cell_type": "code",
      "source": [
        "sol = Solution()\n",
        "print(sol.gcdOfStrings(\"ABCABC\", \"ABC\"))   # Output: \"ABC\"\n",
        "print(sol.gcdOfStrings(\"ABABAB\", \"ABAB\"))   # Output: \"AB\"\n",
        "print(sol.gcdOfStrings(\"LEET\", \"CODE\"))     # Output: \"\"\n"
      ],
      "metadata": {
        "colab": {
          "base_uri": "https://localhost:8080/"
        },
        "id": "KDWIapLxlrY1",
        "outputId": "715621af-4238-4246-e32b-9a97c24ee1ed"
      },
      "execution_count": 2,
      "outputs": [
        {
          "output_type": "stream",
          "name": "stdout",
          "text": [
            "ABC\n",
            "AB\n",
            "\n"
          ]
        }
      ]
    },
    {
      "cell_type": "markdown",
      "source": [
        "The most efficient and widely used method for finding the greatest common divisor is probably Euclid's algorithm. Explaining Euclid's algorithm would make the post longer, so let me skip it.\n",
        "\n",
        "I put wikipedia for Euclid's algorithm.\n",
        "https://en.wikipedia.org/wiki/Greatest_common_divisor\n",
        "\n",
        "You can see Euclid's algorithm in the solution code below(gcd function).\n",
        "\n",
        "Complexity\n",
        "This is about Python. Other might be different.\n",
        "\n",
        "Time complexity: O(m+n)\n",
        "Space complexity: O(m+n)"
      ],
      "metadata": {
        "id": "tuMpY1OPl2VZ"
      }
    },
    {
      "cell_type": "markdown",
      "source": [
        "# Without using Euclid's algorithm"
      ],
      "metadata": {
        "id": "tyLmYDXql4Rm"
      }
    },
    {
      "cell_type": "code",
      "source": [
        "class Solution:\n",
        "    def gcdOfStrings(self, str1: str, str2: str) -> str:\n",
        "        if str1 + str2 != str2 + str1:\n",
        "            return \"\"\n",
        "\n",
        "        # Find GCD by checking divisibility from min(len1, len2) down to 1\n",
        "        len1, len2 = len(str1), len(str2)\n",
        "        min_len = min(len1, len2)\n",
        "\n",
        "        for i in range(min_len, 0, -1):\n",
        "            if len1 % i == 0 and len2 % i == 0:\n",
        "                return str1[:i]\n",
        "\n",
        "        return \"\"\n"
      ],
      "metadata": {
        "id": "baUAM4yDmgFX"
      },
      "execution_count": 4,
      "outputs": []
    },
    {
      "cell_type": "code",
      "source": [
        "sol = Solution()\n",
        "print(sol.gcdOfStrings(\"ABCABC\", \"ABC\"))  # Output: \"ABC\"\n",
        "print(sol.gcdOfStrings(\"ABABAB\", \"ABAB\"))  # Output: \"AB\"\n",
        "print(sol.gcdOfStrings(\"LEET\", \"CODE\"))    # Output: \"\"\n"
      ],
      "metadata": {
        "colab": {
          "base_uri": "https://localhost:8080/"
        },
        "id": "6LShjBIgmquX",
        "outputId": "af0a7ba5-3e86-4d5c-bc06-36af602e39c3"
      },
      "execution_count": 5,
      "outputs": [
        {
          "output_type": "stream",
          "name": "stdout",
          "text": [
            "ABC\n",
            "AB\n",
            "\n"
          ]
        }
      ]
    },
    {
      "cell_type": "markdown",
      "source": [
        "If we solve this problem without using Euclid's algorithm, we can approach it as follows:\n",
        "\n",
        "We pass the lengths of the two strings and use the smaller length as the upper limit for iteration.\n",
        "\n",
        "In the loop, we start from the minimum length and decrement towards 0. If we find a value where len1 % i == 0 and len2 % i == 0, that value is the greatest common divisor.\n",
        "\n",
        "Time complexity: O(m+n)\n",
        "\n",
        "Space complexity: O(m+n)"
      ],
      "metadata": {
        "id": "6lMk3rQDmDP0"
      }
    }
  ]
}