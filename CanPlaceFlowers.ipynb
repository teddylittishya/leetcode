{
  "nbformat": 4,
  "nbformat_minor": 0,
  "metadata": {
    "colab": {
      "provenance": []
    },
    "kernelspec": {
      "name": "python3",
      "display_name": "Python 3"
    },
    "language_info": {
      "name": "python"
    }
  },
  "cells": [
    {
      "cell_type": "code",
      "execution_count": 2,
      "metadata": {
        "colab": {
          "base_uri": "https://localhost:8080/",
          "height": 0
        },
        "id": "01Y0DxBrvrn_",
        "outputId": "d0738e3f-755f-43c0-be7e-524a47a303c8"
      },
      "outputs": [
        {
          "output_type": "stream",
          "name": "stdout",
          "text": [
            "Can place flowers: True\n",
            "Can place flowers: False\n"
          ]
        }
      ],
      "source": [
        "# ✅ Solution for Can Place Flowers\n",
        "\n",
        "# Define the function inside a class, as required by LeetCode\n",
        "class Solution:\n",
        "    def canPlaceFlowers(self, flowerbed, n):\n",
        "        count = 0  # Counter for how many flowers we can plant\n",
        "        length = len(flowerbed)\n",
        "\n",
        "        for i in range(length):\n",
        "            # Check if current spot is empty\n",
        "            if flowerbed[i] == 0:\n",
        "                # Check left and right spots\n",
        "                empty_left = (i == 0) or (flowerbed[i - 1] == 0)\n",
        "                empty_right = (i == length - 1) or (flowerbed[i + 1] == 0)\n",
        "\n",
        "                # If both sides are empty, we can plant a flower here\n",
        "                if empty_left and empty_right:\n",
        "                    flowerbed[i] = 1  # Plant the flower\n",
        "                    count += 1  # Increment the counter\n",
        "\n",
        "                    # Optional: Early exit if we already planted enough\n",
        "                    if count >= n:\n",
        "                        return True\n",
        "\n",
        "        # After checking all spots\n",
        "        return count >= n\n",
        "\n",
        "# ✅ Test the solution\n",
        "sol = Solution()\n",
        "\n",
        "# Example test cases\n",
        "flowerbed = [1, 0, 0, 0, 1]\n",
        "n = 1\n",
        "print(\"Can place flowers:\", sol.canPlaceFlowers(flowerbed, n))  # Output: True\n",
        "\n",
        "flowerbed = [1, 0, 0, 0, 1]\n",
        "n = 2\n",
        "print(\"Can place flowers:\", sol.canPlaceFlowers(flowerbed, n))  # Output: False\n"
      ]
    }
  ]
}