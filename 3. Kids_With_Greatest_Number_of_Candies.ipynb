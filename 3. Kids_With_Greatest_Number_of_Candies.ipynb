{
  "nbformat": 4,
  "nbformat_minor": 0,
  "metadata": {
    "colab": {
      "provenance": []
    },
    "kernelspec": {
      "name": "python3",
      "display_name": "Python 3"
    },
    "language_info": {
      "name": "python"
    }
  },
  "cells": [
    {
      "cell_type": "code",
      "execution_count": 9,
      "metadata": {
        "colab": {
          "base_uri": "https://localhost:8080/"
        },
        "id": "LPr-sZvY6eJX",
        "outputId": "ff060f85-b378-4e75-da9d-a7ebc2e26c83"
      },
      "outputs": [
        {
          "output_type": "stream",
          "name": "stdout",
          "text": [
            "[True, True, True, False, True]\n"
          ]
        }
      ],
      "source": [
        "# ✅ Solution for \"Kids With the Greatest Number of Candies\"\n",
        "\n",
        "# First, import List from typing to avoid errors\n",
        "from typing import List\n",
        "\n",
        "# Define the class and method\n",
        "class Solution:\n",
        "    def kidsWithCandies(self, candies: List[int], extraCandies: int) -> List[bool]:\n",
        "        # Step 1: Find the maximum candies any kid currently has\n",
        "        max_candies = max(candies)\n",
        "\n",
        "        # Step 2: Compare each kid's candies + extraCandies to max_candies\n",
        "        result = []\n",
        "        for candy in candies:\n",
        "            result.append(candy + extraCandies >= max_candies)\n",
        "\n",
        "        return result\n",
        "\n",
        "# ✅ Test the solution\n",
        "solution = Solution()\n",
        "candies = [2, 3, 5, 1, 3]\n",
        "extraCandies = 3\n",
        "\n",
        "# Call the function and print the result\n",
        "print(solution.kidsWithCandies(candies, extraCandies))\n"
      ]
    },
    {
      "cell_type": "markdown",
      "source": [
        "OPTIMIZED VERSION"
      ],
      "metadata": {
        "id": "f3L51w0k91Fu"
      }
    },
    {
      "cell_type": "markdown",
      "source": [
        "1. **Using List Comprehension**"
      ],
      "metadata": {
        "id": "xf-UzGUe_CJS"
      }
    },
    {
      "cell_type": "code",
      "source": [
        "# Import List from typing (necessary for Colab / local environments)\n",
        "from typing import List\n",
        "\n",
        "# Define the Solution class\n",
        "class Solution:\n",
        "    def kidsWithCandies(self, candies: List[int], extraCandies: int) -> List[bool]:\n",
        "        max_candies = max(candies)\n",
        "        # Using list comprehension for cleaner and faster execution\n",
        "        return [candy + extraCandies >= max_candies for candy in candies]\n",
        "\n",
        "# ✅ Test the solution\n",
        "solution = Solution()\n",
        "candies = [2, 3, 5, 1, 3]\n",
        "extraCandies = 3\n",
        "\n",
        "print(solution.kidsWithCandies(candies, extraCandies))\n"
      ],
      "metadata": {
        "colab": {
          "base_uri": "https://localhost:8080/"
        },
        "id": "kdqecSRy84LQ",
        "outputId": "af203871-e81d-40ed-e0b0-f17a20ca7572"
      },
      "execution_count": 10,
      "outputs": [
        {
          "output_type": "stream",
          "name": "stdout",
          "text": [
            "[True, True, True, False, True]\n"
          ]
        }
      ]
    },
    {
      "cell_type": "markdown",
      "source": [
        "⏱️ Time Complexity:\n",
        "\n",
        "O(n) — because we go through the list once to find max, and once to build the result list.\n",
        "\n",
        "\n",
        "✅ Space Complexity:\n",
        "\n",
        "O(n) — for the output list.\n",
        "\n"
      ],
      "metadata": {
        "id": "3KT19wDu-43Y"
      }
    },
    {
      "cell_type": "markdown",
      "source": [
        "2. **Using map() (For small imputs)**"
      ],
      "metadata": {
        "id": "mJpzpAQ5-_IN"
      }
    },
    {
      "cell_type": "code",
      "source": [
        "from typing import List\n",
        "\n",
        "class Solution:\n",
        "    def kidsWithCandies(self, candies: List[int], extraCandies: int) -> List[bool]:\n",
        "        max_candies = max(candies)\n",
        "        return list(map(lambda candy: candy + extraCandies >= max_candies, candies))\n",
        "\n",
        "# ✅ Test\n",
        "solution = Solution()\n",
        "candies = [2, 3, 5, 1, 3]\n",
        "extraCandies = 3\n",
        "\n",
        "print(solution.kidsWithCandies(candies, extraCandies))\n"
      ],
      "metadata": {
        "colab": {
          "base_uri": "https://localhost:8080/"
        },
        "id": "Mqw6WssO-7lv",
        "outputId": "298b06ff-338c-4ba1-8009-b9d6780ad404"
      },
      "execution_count": 11,
      "outputs": [
        {
          "output_type": "stream",
          "name": "stdout",
          "text": [
            "[True, True, True, False, True]\n"
          ]
        }
      ]
    },
    {
      "cell_type": "markdown",
      "source": [
        "3. **Using NumPy (🔥 Fast for big data)**\n",
        "\n",
        "For large inputs: NumPy is blazing fast because it does operations in bulk (vectorized)."
      ],
      "metadata": {
        "id": "4VbdEnRZEfI6"
      }
    },
    {
      "cell_type": "code",
      "source": [
        "import numpy as np\n",
        "\n",
        "class Solution:\n",
        "    def kidsWithCandies(self, candies, extraCandies):\n",
        "        candies = np.array(candies)\n",
        "        max_candies = candies.max()\n",
        "        return list(candies + extraCandies >= max_candies)\n",
        "\n",
        "# ✅ Test\n",
        "solution = Solution()\n",
        "candies = [2, 3, 5, 1, 3]\n",
        "extraCandies = 3\n",
        "\n",
        "print(solution.kidsWithCandies(candies, extraCandies))\n"
      ],
      "metadata": {
        "colab": {
          "base_uri": "https://localhost:8080/"
        },
        "id": "MOFcEr9MEl6E",
        "outputId": "b1f09ab7-7b6b-4791-fb3e-46701396c254"
      },
      "execution_count": 12,
      "outputs": [
        {
          "output_type": "stream",
          "name": "stdout",
          "text": [
            "[np.True_, np.True_, np.True_, np.False_, np.True_]\n"
          ]
        }
      ]
    },
    {
      "cell_type": "markdown",
      "source": [
        "🚀 Time Complexity\n",
        "\n",
        "\n",
        "Finding max_candies:\n",
        "\n",
        "\n",
        "```\n",
        "max_candies = max(candies)\n",
        "```\n",
        "\n",
        "\n",
        "✅ Time: O(n) — We scan the list once to find the max.\n",
        "\n",
        "Comparing each kid’s candies:\n",
        "\n",
        "Whether you use map(), list comprehension, or NumPy, you're going through each element once.\n",
        "\n",
        "✅ Time: O(n)\n",
        "\n",
        "➡️ Total Time Complexity:\n",
        "\n",
        "O(n) + O(n) = O(n)\n",
        "\n",
        "✅ Final: O(n)\n",
        "\n"
      ],
      "metadata": {
        "id": "FBGt4xGyGszy"
      }
    },
    {
      "cell_type": "markdown",
      "source": [
        "🧩 Space Complexity\n",
        "\n",
        "You create a result list (new list of booleans), same length as candies.\n",
        "\n",
        "NumPy or map() or list comprehension — all create a new list.\n",
        "\n",
        "➡️ Space Complexity:\n",
        "\n",
        "\n",
        "✅ O(n) (for the output list)"
      ],
      "metadata": {
        "id": "YEHvYmHZHE4J"
      }
    },
    {
      "cell_type": "markdown",
      "source": [
        "⚡️ Extra Note:\n",
        "NumPy is super fast for big arrays because it uses optimized C code underneath.\n",
        "\n",
        "But for small inputs like LeetCode problems, list comprehension is just as good (sometimes even faster because of less overhead)!"
      ],
      "metadata": {
        "id": "yGjoA0-hHJ7W"
      }
    },
    {
      "cell_type": "code",
      "source": [],
      "metadata": {
        "id": "pARAovuCHH3n"
      },
      "execution_count": null,
      "outputs": []
    }
  ]
}
